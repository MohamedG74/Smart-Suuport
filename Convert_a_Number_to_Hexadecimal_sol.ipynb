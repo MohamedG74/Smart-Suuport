{
  "nbformat": 4,
  "nbformat_minor": 0,
  "metadata": {
    "colab": {
      "provenance": [],
      "authorship_tag": "ABX9TyM0QBHEBWLvwZ/hOX/zIUmV",
      "include_colab_link": true
    },
    "kernelspec": {
      "name": "python3",
      "display_name": "Python 3"
    },
    "language_info": {
      "name": "python"
    }
  },
  "cells": [
    {
      "cell_type": "markdown",
      "metadata": {
        "id": "view-in-github",
        "colab_type": "text"
      },
      "source": [
        "<a href=\"https://colab.research.google.com/github/MohamedG74/Smart-Suuport/blob/main/Convert_a_Number_to_Hexadecimal_sol.ipynb\" target=\"_parent\"><img src=\"https://colab.research.google.com/assets/colab-badge.svg\" alt=\"Open In Colab\"/></a>"
      ]
    },
    {
      "cell_type": "code",
      "execution_count": null,
      "metadata": {
        "colab": {
          "base_uri": "https://localhost:8080/"
        },
        "id": "-Dg1w4nfdmoB",
        "outputId": "a67a1427-32b6-4235-dca2-bd357ce178c4"
      },
      "outputs": [
        {
          "output_type": "stream",
          "name": "stdout",
          "text": [
            "1a\n",
            "ffffffff\n",
            "0\n"
          ]
        }
      ],
      "source": [
        "def toHex(num):\n",
        "    if num == 0:\n",
        "        return \"0\"\n",
        "\n",
        "    hex_chars = \"0123456789abcdef\"\n",
        "    result = []\n",
        "\n",
        "    if num < 0:\n",
        "        num += 1 << 32\n",
        "\n",
        "    while num > 0:\n",
        "        digit = num % 16\n",
        "        result.append(hex_chars[digit])\n",
        "        num //= 16\n",
        "\n",
        "    return ''.join(result[::-1])\n",
        "\n",
        "# test cases\n",
        "#print(toHex(26))\n",
        "#print(toHex(-1))\n",
        "\n"
      ]
    }
  ]
}