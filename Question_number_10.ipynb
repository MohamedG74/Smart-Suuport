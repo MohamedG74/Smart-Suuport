{
  "nbformat": 4,
  "nbformat_minor": 0,
  "metadata": {
    "colab": {
      "provenance": [],
      "authorship_tag": "ABX9TyOhnC/UrVulOwONtHecIsnP",
      "include_colab_link": true
    },
    "kernelspec": {
      "name": "python3",
      "display_name": "Python 3"
    },
    "language_info": {
      "name": "python"
    }
  },
  "cells": [
    {
      "cell_type": "markdown",
      "metadata": {
        "id": "view-in-github",
        "colab_type": "text"
      },
      "source": [
        "<a href=\"https://colab.research.google.com/github/MohamedG74/Smart-Suuport/blob/main/Question_number_10.ipynb\" target=\"_parent\"><img src=\"https://colab.research.google.com/assets/colab-badge.svg\" alt=\"Open In Colab\"/></a>"
      ]
    },
    {
      "cell_type": "code",
      "execution_count": 3,
      "metadata": {
        "colab": {
          "base_uri": "https://localhost:8080/"
        },
        "id": "lcgxjt4iW9ej",
        "outputId": "7a58ced2-8b3c-42c7-c045-0655a486cbae"
      },
      "outputs": [
        {
          "output_type": "stream",
          "name": "stdout",
          "text": [
            "True\n"
          ]
        }
      ],
      "source": [
        "import math\n",
        "def isPerfectSquare(num):\n",
        "    if num < 0:\n",
        "        return False\n",
        "\n",
        "    square_root = int(math.sqrt(num))\n",
        "    return square_root * square_root == num\n",
        "# Test cases\n",
        "print(isPerfectSquare(16))"
      ]
    },
    {
      "cell_type": "code",
      "source": [],
      "metadata": {
        "id": "xeqtU09WXlYA"
      },
      "execution_count": null,
      "outputs": []
    }
  ]
}