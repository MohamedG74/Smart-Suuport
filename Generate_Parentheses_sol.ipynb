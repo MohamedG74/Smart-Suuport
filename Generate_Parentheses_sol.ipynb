{
  "nbformat": 4,
  "nbformat_minor": 0,
  "metadata": {
    "colab": {
      "provenance": [],
      "authorship_tag": "ABX9TyOatlgqEKv2LdIXgYrjxtu1",
      "include_colab_link": true
    },
    "kernelspec": {
      "name": "python3",
      "display_name": "Python 3"
    },
    "language_info": {
      "name": "python"
    }
  },
  "cells": [
    {
      "cell_type": "markdown",
      "metadata": {
        "id": "view-in-github",
        "colab_type": "text"
      },
      "source": [
        "<a href=\"https://colab.research.google.com/github/MohamedG74/Smart-Suuport/blob/main/Generate_Parentheses_sol.ipynb\" target=\"_parent\"><img src=\"https://colab.research.google.com/assets/colab-badge.svg\" alt=\"Open In Colab\"/></a>"
      ]
    },
    {
      "cell_type": "code",
      "execution_count": null,
      "metadata": {
        "id": "BdBPg4dFjR-8"
      },
      "outputs": [],
      "source": [
        "def generateParentheses(n):\n",
        "    def backtrack(s, left, right):\n",
        "        if len(s) == 2 * n:\n",
        "            combinations.append(s)\n",
        "            return\n",
        "\n",
        "        if left < n:\n",
        "            backtrack(s + \"(\", left + 1, right)\n",
        "\n",
        "        if right < left:\n",
        "            backtrack(s + \")\", left, right + 1)\n",
        "\n",
        "    combinations = []\n",
        "    backtrack(\"\", 0, 0)\n",
        "    return combinations\n",
        "\n"
      ]
    }
  ]
}