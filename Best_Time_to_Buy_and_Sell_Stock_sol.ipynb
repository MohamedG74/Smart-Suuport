{
  "nbformat": 4,
  "nbformat_minor": 0,
  "metadata": {
    "colab": {
      "provenance": [],
      "authorship_tag": "ABX9TyOCwe8/g9ZRI2dlHghjPYRq",
      "include_colab_link": true
    },
    "kernelspec": {
      "name": "python3",
      "display_name": "Python 3"
    },
    "language_info": {
      "name": "python"
    }
  },
  "cells": [
    {
      "cell_type": "markdown",
      "metadata": {
        "id": "view-in-github",
        "colab_type": "text"
      },
      "source": [
        "<a href=\"https://colab.research.google.com/github/MohamedG74/Smart-Suuport/blob/main/Best_Time_to_Buy_and_Sell_Stock_sol.ipynb\" target=\"_parent\"><img src=\"https://colab.research.google.com/assets/colab-badge.svg\" alt=\"Open In Colab\"/></a>"
      ]
    },
    {
      "cell_type": "code",
      "execution_count": 1,
      "metadata": {
        "id": "GEe9xNsAhnr3"
      },
      "outputs": [],
      "source": [
        "def maxProfit(prices):\n",
        "    if not prices:\n",
        "        return 0\n",
        "\n",
        "    min_price = prices[0]\n",
        "    max_profit = 0\n",
        "\n",
        "    for price in prices:\n",
        "        min_price = min(min_price, price)\n",
        "        max_profit = max(max_profit, price - min_price)\n",
        "\n",
        "    return max_profit"
      ]
    }
  ]
}