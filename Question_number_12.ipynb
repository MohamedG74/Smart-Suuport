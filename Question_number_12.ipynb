{
  "nbformat": 4,
  "nbformat_minor": 0,
  "metadata": {
    "colab": {
      "provenance": [],
      "authorship_tag": "ABX9TyOg+etnGnI/GU6VDOxR5ocm",
      "include_colab_link": true
    },
    "kernelspec": {
      "name": "python3",
      "display_name": "Python 3"
    },
    "language_info": {
      "name": "python"
    }
  },
  "cells": [
    {
      "cell_type": "markdown",
      "metadata": {
        "id": "view-in-github",
        "colab_type": "text"
      },
      "source": [
        "<a href=\"https://colab.research.google.com/github/MohamedG74/Smart-Suuport/blob/main/Question_number_12.ipynb\" target=\"_parent\"><img src=\"https://colab.research.google.com/assets/colab-badge.svg\" alt=\"Open In Colab\"/></a>"
      ]
    },
    {
      "cell_type": "code",
      "execution_count": 4,
      "metadata": {
        "colab": {
          "base_uri": "https://localhost:8080/"
        },
        "id": "mALK-yHebwCH",
        "outputId": "ae78b9cb-3709-4141-bb89-fc54e9237bff"
      },
      "outputs": [
        {
          "output_type": "stream",
          "name": "stdout",
          "text": [
            "Missing number: 3\n"
          ]
        }
      ],
      "source": [
        "def findMissingNumber(num):\n",
        "    n = len(num) + 1  # The range is from 1 to n\n",
        "    expected_sum = n * (n + 1) // 2  # Sum of all numbers from 1 to n\n",
        "    actual_sum = sum(num)  # Sum of the given list of numbers\n",
        "    missing_num = expected_sum - actual_sum\n",
        "    return missing_num\n",
        "\n",
        "# test case\n",
        "list_of_nums = [1, 2, 4, 5]\n",
        "missing_num = findMissingNumber(list_of_nums)\n",
        "print(\"Missing number:\", missing_num)"
      ]
    },
    {
      "cell_type": "code",
      "source": [],
      "metadata": {
        "id": "alh02KdmcGAd"
      },
      "execution_count": null,
      "outputs": []
    }
  ]
}